{
 "cells": [
  {
   "cell_type": "markdown",
   "id": "1b3c3d5e",
   "metadata": {},
   "source": [
    "# EDA of Starbucks Drinks Menu - Nutrition Analysis"
   ]
  },
  {
   "cell_type": "markdown",
   "id": "47a3e357",
   "metadata": {},
   "source": [
    "## Libraries"
   ]
  },
  {
   "cell_type": "code",
   "execution_count": 1,
   "id": "baf23481",
   "metadata": {},
   "outputs": [],
   "source": [
    "import pandas as pd\n",
    "import matplotlib.pyplot as plt\n",
    "import numpy as np\n",
    "import seaborn as sns"
   ]
  },
  {
   "cell_type": "markdown",
   "id": "73c92404",
   "metadata": {},
   "source": [
    "## Preliminary Analysis of the dataset"
   ]
  },
  {
   "cell_type": "code",
   "execution_count": 2,
   "id": "a0edbb10",
   "metadata": {},
   "outputs": [],
   "source": [
    "data = pd.read_csv('starbucks-menu-nutrition-drinks.csv')"
   ]
  },
  {
   "cell_type": "code",
   "execution_count": 3,
   "id": "c2bdc8d0",
   "metadata": {},
   "outputs": [
    {
     "data": {
      "text/html": [
       "<div>\n",
       "<style scoped>\n",
       "    .dataframe tbody tr th:only-of-type {\n",
       "        vertical-align: middle;\n",
       "    }\n",
       "\n",
       "    .dataframe tbody tr th {\n",
       "        vertical-align: top;\n",
       "    }\n",
       "\n",
       "    .dataframe thead th {\n",
       "        text-align: right;\n",
       "    }\n",
       "</style>\n",
       "<table border=\"1\" class=\"dataframe\">\n",
       "  <thead>\n",
       "    <tr style=\"text-align: right;\">\n",
       "      <th></th>\n",
       "      <th>Unnamed: 0</th>\n",
       "      <th>Calories</th>\n",
       "      <th>Fat (g)</th>\n",
       "      <th>Carb. (g)</th>\n",
       "      <th>Fiber (g)</th>\n",
       "      <th>Protein</th>\n",
       "      <th>Sodium</th>\n",
       "    </tr>\n",
       "  </thead>\n",
       "  <tbody>\n",
       "    <tr>\n",
       "      <th>0</th>\n",
       "      <td>Cool Lime Starbucks Refreshers™ Beverage</td>\n",
       "      <td>45</td>\n",
       "      <td>0</td>\n",
       "      <td>11</td>\n",
       "      <td>0</td>\n",
       "      <td>0</td>\n",
       "      <td>10</td>\n",
       "    </tr>\n",
       "    <tr>\n",
       "      <th>1</th>\n",
       "      <td>Ombré Pink Drink</td>\n",
       "      <td>-</td>\n",
       "      <td>-</td>\n",
       "      <td>-</td>\n",
       "      <td>-</td>\n",
       "      <td>-</td>\n",
       "      <td>-</td>\n",
       "    </tr>\n",
       "    <tr>\n",
       "      <th>2</th>\n",
       "      <td>Pink Drink</td>\n",
       "      <td>-</td>\n",
       "      <td>-</td>\n",
       "      <td>-</td>\n",
       "      <td>-</td>\n",
       "      <td>-</td>\n",
       "      <td>-</td>\n",
       "    </tr>\n",
       "    <tr>\n",
       "      <th>3</th>\n",
       "      <td>Strawberry Acai Starbucks Refreshers™ Beverage</td>\n",
       "      <td>80</td>\n",
       "      <td>0</td>\n",
       "      <td>18</td>\n",
       "      <td>1</td>\n",
       "      <td>0</td>\n",
       "      <td>10</td>\n",
       "    </tr>\n",
       "    <tr>\n",
       "      <th>4</th>\n",
       "      <td>Very Berry Hibiscus Starbucks Refreshers™ Beve...</td>\n",
       "      <td>60</td>\n",
       "      <td>0</td>\n",
       "      <td>14</td>\n",
       "      <td>1</td>\n",
       "      <td>0</td>\n",
       "      <td>10</td>\n",
       "    </tr>\n",
       "  </tbody>\n",
       "</table>\n",
       "</div>"
      ],
      "text/plain": [
       "                                          Unnamed: 0 Calories Fat (g)  \\\n",
       "0           Cool Lime Starbucks Refreshers™ Beverage       45       0   \n",
       "1                                   Ombré Pink Drink        -       -   \n",
       "2                                         Pink Drink        -       -   \n",
       "3     Strawberry Acai Starbucks Refreshers™ Beverage       80       0   \n",
       "4  Very Berry Hibiscus Starbucks Refreshers™ Beve...       60       0   \n",
       "\n",
       "  Carb. (g) Fiber (g) Protein Sodium  \n",
       "0        11         0       0     10  \n",
       "1         -         -       -      -  \n",
       "2         -         -       -      -  \n",
       "3        18         1       0     10  \n",
       "4        14         1       0     10  "
      ]
     },
     "execution_count": 3,
     "metadata": {},
     "output_type": "execute_result"
    }
   ],
   "source": [
    "data.head()"
   ]
  },
  {
   "cell_type": "code",
   "execution_count": 4,
   "id": "c094ea89",
   "metadata": {},
   "outputs": [
    {
     "data": {
      "text/plain": [
       "(177, 7)"
      ]
     },
     "execution_count": 4,
     "metadata": {},
     "output_type": "execute_result"
    }
   ],
   "source": [
    "data.shape"
   ]
  },
  {
   "cell_type": "code",
   "execution_count": 5,
   "id": "97c1c18f",
   "metadata": {
    "scrolled": true
   },
   "outputs": [
    {
     "name": "stdout",
     "output_type": "stream",
     "text": [
      "<class 'pandas.core.frame.DataFrame'>\n",
      "RangeIndex: 177 entries, 0 to 176\n",
      "Data columns (total 7 columns):\n",
      " #   Column      Non-Null Count  Dtype \n",
      "---  ------      --------------  ----- \n",
      " 0   Unnamed: 0  177 non-null    object\n",
      " 1   Calories    177 non-null    object\n",
      " 2   Fat (g)     177 non-null    object\n",
      " 3   Carb. (g)   177 non-null    object\n",
      " 4   Fiber (g)   177 non-null    object\n",
      " 5   Protein     177 non-null    object\n",
      " 6   Sodium      177 non-null    object\n",
      "dtypes: object(7)\n",
      "memory usage: 9.8+ KB\n"
     ]
    }
   ],
   "source": [
    "#Check for NULL values\n",
    "data.info()"
   ]
  },
  {
   "cell_type": "markdown",
   "id": "7140e3ba",
   "metadata": {},
   "source": [
    "#### Pandas will only recognise NULL values when they are in the form of np.nan. Here we encounter empty rows with no data denoted by '-' . We deal with this by replacing the '-' with Nan values and then the dropna() function."
   ]
  },
  {
   "cell_type": "code",
   "execution_count": 6,
   "id": "577f077a",
   "metadata": {},
   "outputs": [],
   "source": [
    "data.replace('-', np.nan, inplace=True)"
   ]
  },
  {
   "cell_type": "code",
   "execution_count": 7,
   "id": "49a50acb",
   "metadata": {},
   "outputs": [],
   "source": [
    "data.dropna(inplace=True)"
   ]
  },
  {
   "cell_type": "code",
   "execution_count": 8,
   "id": "1bd23c51",
   "metadata": {},
   "outputs": [
    {
     "data": {
      "text/plain": [
       "(92, 7)"
      ]
     },
     "execution_count": 8,
     "metadata": {},
     "output_type": "execute_result"
    }
   ],
   "source": [
    "#After filtering out NULL rows we are left with...\n",
    "data.shape"
   ]
  },
  {
   "cell_type": "code",
   "execution_count": 9,
   "id": "ce26a55b",
   "metadata": {},
   "outputs": [
    {
     "data": {
      "text/html": [
       "<div>\n",
       "<style scoped>\n",
       "    .dataframe tbody tr th:only-of-type {\n",
       "        vertical-align: middle;\n",
       "    }\n",
       "\n",
       "    .dataframe tbody tr th {\n",
       "        vertical-align: top;\n",
       "    }\n",
       "\n",
       "    .dataframe thead th {\n",
       "        text-align: right;\n",
       "    }\n",
       "</style>\n",
       "<table border=\"1\" class=\"dataframe\">\n",
       "  <thead>\n",
       "    <tr style=\"text-align: right;\">\n",
       "      <th></th>\n",
       "      <th>Unnamed: 0</th>\n",
       "      <th>Calories</th>\n",
       "      <th>Fat (g)</th>\n",
       "      <th>Carb. (g)</th>\n",
       "      <th>Fiber (g)</th>\n",
       "      <th>Protein</th>\n",
       "      <th>Sodium</th>\n",
       "    </tr>\n",
       "  </thead>\n",
       "  <tbody>\n",
       "    <tr>\n",
       "      <th>0</th>\n",
       "      <td>Cool Lime Starbucks Refreshers™ Beverage</td>\n",
       "      <td>45</td>\n",
       "      <td>0</td>\n",
       "      <td>11</td>\n",
       "      <td>0</td>\n",
       "      <td>0</td>\n",
       "      <td>10</td>\n",
       "    </tr>\n",
       "    <tr>\n",
       "      <th>3</th>\n",
       "      <td>Strawberry Acai Starbucks Refreshers™ Beverage</td>\n",
       "      <td>80</td>\n",
       "      <td>0</td>\n",
       "      <td>18</td>\n",
       "      <td>1</td>\n",
       "      <td>0</td>\n",
       "      <td>10</td>\n",
       "    </tr>\n",
       "    <tr>\n",
       "      <th>4</th>\n",
       "      <td>Very Berry Hibiscus Starbucks Refreshers™ Beve...</td>\n",
       "      <td>60</td>\n",
       "      <td>0</td>\n",
       "      <td>14</td>\n",
       "      <td>1</td>\n",
       "      <td>0</td>\n",
       "      <td>10</td>\n",
       "    </tr>\n",
       "    <tr>\n",
       "      <th>8</th>\n",
       "      <td>Evolution Fresh™ Organic Ginger Limeade</td>\n",
       "      <td>110</td>\n",
       "      <td>0</td>\n",
       "      <td>28</td>\n",
       "      <td>0</td>\n",
       "      <td>0</td>\n",
       "      <td>5</td>\n",
       "    </tr>\n",
       "    <tr>\n",
       "      <th>9</th>\n",
       "      <td>Iced Coffee</td>\n",
       "      <td>0</td>\n",
       "      <td>0</td>\n",
       "      <td>0</td>\n",
       "      <td>0</td>\n",
       "      <td>0</td>\n",
       "      <td>0</td>\n",
       "    </tr>\n",
       "  </tbody>\n",
       "</table>\n",
       "</div>"
      ],
      "text/plain": [
       "                                          Unnamed: 0 Calories Fat (g)  \\\n",
       "0           Cool Lime Starbucks Refreshers™ Beverage       45       0   \n",
       "3     Strawberry Acai Starbucks Refreshers™ Beverage       80       0   \n",
       "4  Very Berry Hibiscus Starbucks Refreshers™ Beve...       60       0   \n",
       "8            Evolution Fresh™ Organic Ginger Limeade      110       0   \n",
       "9                                        Iced Coffee        0       0   \n",
       "\n",
       "  Carb. (g) Fiber (g) Protein Sodium  \n",
       "0        11         0       0     10  \n",
       "3        18         1       0     10  \n",
       "4        14         1       0     10  \n",
       "8        28         0       0      5  \n",
       "9         0         0       0      0  "
      ]
     },
     "execution_count": 9,
     "metadata": {},
     "output_type": "execute_result"
    }
   ],
   "source": [
    "data.head()"
   ]
  },
  {
   "cell_type": "code",
   "execution_count": 10,
   "id": "25992340",
   "metadata": {},
   "outputs": [],
   "source": [
    "df = data.rename(columns={'Unnamed: 0':'Title'})"
   ]
  },
  {
   "cell_type": "code",
   "execution_count": 11,
   "id": "77da583f",
   "metadata": {},
   "outputs": [
    {
     "data": {
      "text/plain": [
       "Title        object\n",
       "Calories     object\n",
       "Fat (g)      object\n",
       "Carb. (g)    object\n",
       "Fiber (g)    object\n",
       "Protein      object\n",
       "Sodium       object\n",
       "dtype: object"
      ]
     },
     "execution_count": 11,
     "metadata": {},
     "output_type": "execute_result"
    }
   ],
   "source": [
    "df.dtypes"
   ]
  },
  {
   "cell_type": "code",
   "execution_count": 12,
   "id": "29718d62",
   "metadata": {},
   "outputs": [
    {
     "data": {
      "text/plain": [
       "Index(['Title', 'Calories', 'Fat (g)', 'Carb. (g)', 'Fiber (g)', 'Protein',\n",
       "       'Sodium'],\n",
       "      dtype='object')"
      ]
     },
     "execution_count": 12,
     "metadata": {},
     "output_type": "execute_result"
    }
   ],
   "source": [
    "df.columns"
   ]
  },
  {
   "cell_type": "code",
   "execution_count": 13,
   "id": "3607de5e",
   "metadata": {},
   "outputs": [],
   "source": [
    "df = df.astype({\"Calories\": float, \"Fat (g)\": float, \"Carb. (g)\": int, \"Fiber (g)\": int, \"Protein\": int, \"Sodium\": int})"
   ]
  },
  {
   "cell_type": "code",
   "execution_count": 14,
   "id": "e4301d35",
   "metadata": {},
   "outputs": [
    {
     "data": {
      "text/plain": [
       "Title         object\n",
       "Calories     float64\n",
       "Fat (g)      float64\n",
       "Carb. (g)      int32\n",
       "Fiber (g)      int32\n",
       "Protein        int32\n",
       "Sodium         int32\n",
       "dtype: object"
      ]
     },
     "execution_count": 14,
     "metadata": {},
     "output_type": "execute_result"
    }
   ],
   "source": [
    "df.dtypes"
   ]
  },
  {
   "cell_type": "markdown",
   "id": "6ebe0f75",
   "metadata": {},
   "source": [
    "Save the cleaned dataset"
   ]
  },
  {
   "cell_type": "code",
   "execution_count": 15,
   "id": "d7c2f7d7",
   "metadata": {},
   "outputs": [],
   "source": [
    "df.to_csv('Starbucks-Drinks-Cleaned-Dataset.csv')"
   ]
  },
  {
   "cell_type": "markdown",
   "id": "6eb239d3",
   "metadata": {},
   "source": [
    "## Visualization"
   ]
  },
  {
   "cell_type": "markdown",
   "id": "66e325dc",
   "metadata": {},
   "source": [
    "We will start by analyzing the composition of each nutrient in each drink."
   ]
  },
  {
   "cell_type": "markdown",
   "id": "b539de10",
   "metadata": {},
   "source": [
    "##### Calorie Content"
   ]
  },
  {
   "cell_type": "code",
   "execution_count": 16,
   "id": "8fda32c3",
   "metadata": {},
   "outputs": [
    {
     "data": {
      "text/plain": [
       "Text(0.5, 1.0, 'Calorie Distribution in Starbucks Drinks')"
      ]
     },
     "execution_count": 16,
     "metadata": {},
     "output_type": "execute_result"
    },
    {
     "data": {
      "image/png": "[encoded data removed]",
      "text/plain": [
       "<Figure size 432x288 with 1 Axes>"
      ]
     },
     "metadata": {
      "needs_background": "light"
     },
     "output_type": "display_data"
    }
   ],
   "source": [
    "calories = df[\"Calories\"]\n",
    "\n",
    "# Plot a histogram of sodium content\n",
    "plt.hist(calories)\n",
    "plt.title(\"Calorie Distribution in Starbucks Drinks\")"
   ]
  },
  {
   "cell_type": "code",
   "execution_count": 20,
   "id": "907d5830",
   "metadata": {},
   "outputs": [
    {
     "data": {
      "text/plain": [
       "Text(0, 0.5, 'Count')"
      ]
     },
     "execution_count": 20,
     "metadata": {},
     "output_type": "execute_result"
    },
    {
     "data": {
      "image/png": "[encoded data removed]",
      "text/plain": [
       "<Figure size 432x288 with 1 Axes>"
      ]
     },
     "metadata": {
      "needs_background": "light"
     },
     "output_type": "display_data"
    }
   ],
   "source": [
    "plt.hist(calories, bins=9, edgecolor = \"black\")\n",
    "plt.title(\"Calorie Distribution in Starbucks Drinks\") # add a title\n",
    "plt.xlabel(\"Calories\") # label the x axes \n",
    "plt.ylabel(\"Count\") # label the y axes"
   ]
  },
  {
   "cell_type": "markdown",
   "id": "71c77132",
   "metadata": {},
   "source": [
    "##### Fat Content"
   ]
  },
  {
   "cell_type": "code",
   "execution_count": 18,
   "id": "0439b9c0",
   "metadata": {},
   "outputs": [
    {
     "data": {
      "text/plain": [
       "Text(0.5, 1.0, 'Fat Distribution in Starbucks Drinks')"
      ]
     },
     "execution_count": 18,
     "metadata": {},
     "output_type": "execute_result"
    },
    {
     "data": {
      "image/png": "[encoded data removed]",
      "text/plain": [
       "<Figure size 432x288 with 1 Axes>"
      ]
     },
     "metadata": {
      "needs_background": "light"
     },
     "output_type": "display_data"
    }
   ],
   "source": [
    "fats = df['Fat (g)']\n",
    "plt.hist(fats)\n",
    "\n",
    "plt.title('Fat Distribution in Starbucks Drinks')\n"
   ]
  },
  {
   "cell_type": "code",
   "execution_count": 19,
   "id": "937588b2",
   "metadata": {},
   "outputs": [
    {
     "data": {
      "text/plain": [
       "Text(0, 0.5, 'Count')"
      ]
     },
     "execution_count": 19,
     "metadata": {},
     "output_type": "execute_result"
    },
    {
     "data": {
      "image/png": "[encoded data removed]",
      "text/plain": [
       "<Figure size 432x288 with 1 Axes>"
      ]
     },
     "metadata": {
      "needs_background": "light"
     },
     "output_type": "display_data"
    }
   ],
   "source": [
    "plt.hist(fats, bins=9, edgecolor = \"black\")\n",
    "plt.title(\"Fats Distribution in Starbucks Drinks\") # add a title\n",
    "plt.xlabel(\"Fats\") # label the x axes \n",
    "plt.ylabel(\"Count\") # label the y axes"
   ]
  },
  {
   "cell_type": "code",
   "execution_count": 31,
   "id": "9d08fdcd",
   "metadata": {},
   "outputs": [
    {
     "data": {
      "text/plain": [
       "Text(0, 0.5, 'Count')"
      ]
     },
     "execution_count": 31,
     "metadata": {},
     "output_type": "execute_result"
    },
    {
     "data": {
      "image/png": "[encoded data removed]",
      "text/plain": [
       "<Figure size 432x288 with 1 Axes>"
      ]
     },
     "metadata": {
      "needs_background": "light"
     },
     "output_type": "display_data"
    }
   ],
   "source": [
    "carbs = df['Carb. (g)']\n",
    "\n",
    "plt.hist(carbs, bins=9, edgecolor = \"black\")\n",
    "plt.title(\"Carbs Distribution in Starbucks Drinks\") # add a title\n",
    "plt.xlabel(\"Carbs\") # label the x axes \n",
    "plt.ylabel(\"Count\") # label the y axes\n",
    "\n"
   ]
  },
  {
   "cell_type": "markdown",
   "id": "13c80e59",
   "metadata": {},
   "source": [
    "##### Fiber Distribution"
   ]
  },
  {
   "cell_type": "code",
   "execution_count": 30,
   "id": "e12b7b97",
   "metadata": {},
   "outputs": [
    {
     "data": {
      "text/plain": [
       "Text(0, 0.5, 'Count')"
      ]
     },
     "execution_count": 30,
     "metadata": {},
     "output_type": "execute_result"
    },
    {
     "data": {
      "image/png": "[encoded data removed]",
      "text/plain": [
       "<Figure size 432x288 with 1 Axes>"
      ]
     },
     "metadata": {
      "needs_background": "light"
     },
     "output_type": "display_data"
    }
   ],
   "source": [
    "fiber = df['Fiber (g)']\n",
    "\n",
    "plt.hist(fiber, bins=9, edgecolor = \"black\")\n",
    "plt.title(\"Fiber Distribution in Starbucks Drinks\") # add a title\n",
    "plt.xlabel(\"Fiber\") # label the x axes \n",
    "plt.ylabel(\"Count\") # label the y axes\n",
    "\n"
   ]
  },
  {
   "cell_type": "markdown",
   "id": "78c3e2cb",
   "metadata": {},
   "source": [
    "##### Protein Distribution"
   ]
  },
  {
   "cell_type": "code",
   "execution_count": 32,
   "id": "7ca28d00",
   "metadata": {},
   "outputs": [
    {
     "data": {
      "text/plain": [
       "Text(0, 0.5, 'Count')"
      ]
     },
     "execution_count": 32,
     "metadata": {},
     "output_type": "execute_result"
    },
    {
     "data": {
      "image/png": "[encoded data removed]",
      "text/plain": [
       "<Figure size 432x288 with 1 Axes>"
      ]
     },
     "metadata": {
      "needs_background": "light"
     },
     "output_type": "display_data"
    }
   ],
   "source": [
    "protein = df['Protein']\n",
    "\n",
    "plt.hist(protein, bins=9, edgecolor = \"black\")\n",
    "plt.title(\"Protein Distribution in Starbucks Drinks\") # add a title\n",
    "plt.xlabel(\"Protein\") # label the x axes \n",
    "plt.ylabel(\"Count\") # label the y axes\n",
    "\n"
   ]
  },
  {
   "cell_type": "markdown",
   "id": "23fd99dc",
   "metadata": {},
   "source": [
    "##### Sodium Distribution "
   ]
  },
  {
   "cell_type": "code",
   "execution_count": 33,
   "id": "c2c15ce6",
   "metadata": {},
   "outputs": [
    {
     "data": {
      "text/plain": [
       "Text(0, 0.5, 'Count')"
      ]
     },
     "execution_count": 33,
     "metadata": {},
     "output_type": "execute_result"
    },
    {
     "data": {
      "image/png": "[encoded data removed]",
      "text/plain": [
       "<Figure size 432x288 with 1 Axes>"
      ]
     },
     "metadata": {
      "needs_background": "light"
     },
     "output_type": "display_data"
    }
   ],
   "source": [
    "sodium = df['Sodium']\n",
    "\n",
    "plt.hist(sodium, bins=9, edgecolor = \"black\")\n",
    "plt.title(\"Sodium Distribution in Starbucks Drinks\") # add a title\n",
    "plt.xlabel(\"Sodium\") # label the x axes \n",
    "plt.ylabel(\"Count\") # label the y axes\n",
    "\n"
   ]
  },
  {
   "cell_type": "code",
   "execution_count": null,
   "id": "ba9181a2",
   "metadata": {},
   "outputs": [],
   "source": []
  }
 ],
 "metadata": {
  "kernelspec": {
   "display_name": "Python 3 (ipykernel)",
   "language": "python",
   "name": "python3"
  },
  "language_info": {
   "codemirror_mode": {
    "name": "ipython",
    "version": 3
   },
   "file_extension": ".py",
   "mimetype": "text/x-python",
   "name": "python",
   "nbconvert_exporter": "python",
   "pygments_lexer": "ipython3",
   "version": "3.9.7"
  }
 },
 "nbformat": 4,
 "nbformat_minor": 5
}
